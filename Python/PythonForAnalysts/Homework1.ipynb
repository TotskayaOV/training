{
 "cells": [
  {
   "cell_type": "markdown",
   "id": "51f5458a",
   "metadata": {},
   "source": [
    "## Задача 1:\n",
    "Оформляйте ноутбук, используя эти советы:\n",
    "## Номер задачи - заголовок 2\n",
    "### Номер подзадачи - заголовок 3\n",
    "Предоставленные наборы данных оформляйте, как код"
   ]
  },
  {
   "cell_type": "markdown",
   "id": "19484c46",
   "metadata": {},
   "source": [
    "## Задача 2:\n",
    "На складе лежат разные фрукты в разном количестве.\n",
    "Нужно написать функцию, которая на вход принимает любое количество названий фруктов и их количество, а возвращает общее количество фруктов на складе"
   ]
  },
  {
   "cell_type": "markdown",
   "id": "4cd2e6af",
   "metadata": {},
   "source": [
    "#### 1 вариант:"
   ]
  },
  {
   "cell_type": "code",
   "execution_count": 1,
   "id": "e959079b",
   "metadata": {},
   "outputs": [],
   "source": [
    "def fullness_warehouse(**kwargs) -> int:\n",
    "    return sum([v for k,v in kwargs.items()])"
   ]
  },
  {
   "cell_type": "code",
   "execution_count": 2,
   "id": "a733825a",
   "metadata": {},
   "outputs": [
    {
     "data": {
      "text/plain": [
       "12"
      ]
     },
     "execution_count": 2,
     "metadata": {},
     "output_type": "execute_result"
    }
   ],
   "source": [
    "warehouse = {'apple': 1, 'banan': 8, 'melon': 3}\n",
    "fullness_warehouse(**warehouse)"
   ]
  },
  {
   "cell_type": "markdown",
   "id": "68ac4ea0",
   "metadata": {},
   "source": [
    "#### 2 вариант:"
   ]
  },
  {
   "cell_type": "code",
   "execution_count": 3,
   "id": "90b15b8f",
   "metadata": {},
   "outputs": [],
   "source": [
    "def fullness_warehouse2(**kwargs) -> str:\n",
    "    return (f'Общее количество фруктов на складе: {sum(kwargs.values())}')"
   ]
  },
  {
   "cell_type": "code",
   "execution_count": 4,
   "id": "038f88af",
   "metadata": {},
   "outputs": [
    {
     "data": {
      "text/plain": [
       "'Общее количество фруктов на складе: 12'"
      ]
     },
     "execution_count": 4,
     "metadata": {},
     "output_type": "execute_result"
    }
   ],
   "source": [
    "warehouse2 = {'apple': 8, 'banan': 1, 'melon': 3}\n",
    "fullness_warehouse2(**warehouse2)"
   ]
  },
  {
   "cell_type": "markdown",
   "id": "65449320",
   "metadata": {},
   "source": [
    "## Задача 3:\n",
    "Дан список с затратами на рекламу. Но в данных есть ошибки, некоторые затраты имеют отрицательную величину. Удалите такие значения из списка и посчитайте суммарные затраты\n",
    "\n",
    "`[100, 125, -90, 345, 655, -1, 0, 200]`\n",
    "\n",
    "Используйте list comprehensions"
   ]
  },
  {
   "cell_type": "code",
   "execution_count": 5,
   "id": "ebbe7888",
   "metadata": {},
   "outputs": [
    {
     "data": {
      "text/plain": [
       "1425"
      ]
     },
     "execution_count": 5,
     "metadata": {},
     "output_type": "execute_result"
    }
   ],
   "source": [
    "advertising_costs = [100, 125, -90, 345, 655, -1, 0, 200]\n",
    "result = sum([i for i in advertising_costs if i > 0])\n",
    "result"
   ]
  },
  {
   "cell_type": "markdown",
   "id": "6ab37835",
   "metadata": {},
   "source": [
    "## Задача 4:\n",
    "Даны два списка:\n",
    "\n",
    "\n",
    "Дата покупки\n",
    "\n",
    "`['2021-09-14', '2021-12-15', '2021-09-08', '2021-12-05', '2021-10-09', '2021-09-30', '2021-12-22', '2021-11-29', '2021-12-24', '2021-11-26', '2021-10-27', '2021-12-18', '2021-11-09', '2021-11-23', '2021-09-27', '2021-10-02', '2021-12-27', '2021-09-20', '2021-12-13', '2021-11-01', '2021-11-09', '2021-12-06', '2021-12-08', '2021-10-09', '2021-10-31', '2021-09-30', '2021-11-09', '2021-12-13', '2021-10-26', '2021-12-09']`\n",
    "\n",
    "Суммы покупок по датам\n",
    "\n",
    "`[1270, 8413, 9028, 3703, 5739, 4095, 295, 4944, 5723, 3701, 4471, 651, 7037, 4274, 6275, 4988, 6930, 2971, 6592, 2004, 2822, 519, 3406, 2732, 5015, 2008, 316, 6333, 5700, 2887]`"
   ]
  },
  {
   "cell_type": "markdown",
   "id": "0d62407e",
   "metadata": {},
   "source": [
    "### 4.1 \n",
    "Найдите, какая выручка у компании в ноябре\n",
    "Используйте list comprehensions"
   ]
  },
  {
   "cell_type": "code",
   "execution_count": 6,
   "id": "b3b11968",
   "metadata": {},
   "outputs": [
    {
     "data": {
      "text/plain": [
       "25098"
      ]
     },
     "execution_count": 6,
     "metadata": {},
     "output_type": "execute_result"
    }
   ],
   "source": [
    "date_list = ['2021-09-14', '2021-12-15', '2021-09-08', '2021-12-05', '2021-10-09', '2021-09-30', '2021-12-22', '2021-11-29', '2021-12-24', '2021-11-26', '2021-10-27', '2021-12-18', '2021-11-09', '2021-11-23', '2021-09-27', '2021-10-02', '2021-12-27', '2021-09-20', '2021-12-13', '2021-11-01', '2021-11-09', '2021-12-06', '2021-12-08', '2021-10-09', '2021-10-31', '2021-09-30', '2021-11-09', '2021-12-13', '2021-10-26', '2021-12-09']\n",
    "purchase_amount = [1270, 8413, 9028, 3703, 5739, 4095, 295, 4944, 5723, 3701, 4471, 651, 7037, 4274, 6275, 4988, 6930, 2971, 6592, 2004, 2822, 519, 3406, 2732, 5015, 2008, 316, 6333, 5700, 2887]\n",
    "result = sum([purchase_amount[i] for i in range(len(purchase_amount)) if \"-11-\" in date_list[i]])\n",
    "result"
   ]
  },
  {
   "cell_type": "markdown",
   "id": "a1cee32e",
   "metadata": {},
   "source": [
    "### 4.2 \n",
    "Найдите выручку компании в зависимости от месяца\n",
    "\n",
    "Для этого напишите функцию, которая на вход принимает список с датами и список с выручкой, а на выходе словарь, где ключи - это месяцы, а значения - это выручка.\n",
    "\n",
    "Используйте аннотирование типов."
   ]
  },
  {
   "cell_type": "markdown",
   "id": "813d69d0",
   "metadata": {},
   "source": [
    "#### 1 вариант:"
   ]
  },
  {
   "cell_type": "code",
   "execution_count": 7,
   "id": "1869beb4",
   "metadata": {},
   "outputs": [
    {
     "name": "stdout",
     "output_type": "stream",
     "text": [
      "{'09': 25647, '12': 45452, '10': 28645, '11': 25098}\n"
     ]
    }
   ],
   "source": [
    "def by_monthly_revenue(date_list: list, purchase_amount: list) -> dict:\n",
    "    result_dict = {}\n",
    "    for i in range(len(date_list)):\n",
    "        month = date_list[i][5:7:]\n",
    "        check_key = result_dict.get(month, 0)\n",
    "        if check_key:\n",
    "            result_dict[month] = check_key + purchase_amount[i]\n",
    "        else:\n",
    "            result_dict[month] = purchase_amount[i]\n",
    "    return result_dict\n",
    "print(by_monthly_revenue(date_list, purchase_amount))"
   ]
  },
  {
   "cell_type": "markdown",
   "id": "1b9704a7",
   "metadata": {},
   "source": [
    "#### 2 вариант:"
   ]
  },
  {
   "cell_type": "code",
   "execution_count": 8,
   "id": "f4c3a4a4",
   "metadata": {},
   "outputs": [
    {
     "name": "stdout",
     "output_type": "stream",
     "text": [
      "{9: 25647, 12: 45452, 10: 28645, 11: 25098}\n"
     ]
    }
   ],
   "source": [
    "from datetime import datetime\n",
    "def by_monthly_revenue2(date_list: list, purchase_amount: list) -> dict:\n",
    "    result_dict = {}\n",
    "    for i in range(len(date_list)):\n",
    "        k_month = datetime.strptime(date_list[i], '%Y-%m-%d').month\n",
    "        check_key = result_dict.get(k_month, 0)\n",
    "        if check_key:\n",
    "            result_dict[k_month] = check_key + purchase_amount[i]\n",
    "        else:\n",
    "            result_dict[k_month] = purchase_amount[i]\n",
    "    return result_dict\n",
    "print(by_monthly_revenue2(date_list, purchase_amount))"
   ]
  },
  {
   "cell_type": "code",
   "execution_count": null,
   "id": "658bbf38",
   "metadata": {},
   "outputs": [],
   "source": []
  }
 ],
 "metadata": {
  "kernelspec": {
   "display_name": "Python 3 (ipykernel)",
   "language": "python",
   "name": "python3"
  },
  "language_info": {
   "codemirror_mode": {
    "name": "ipython",
    "version": 3
   },
   "file_extension": ".py",
   "mimetype": "text/x-python",
   "name": "python",
   "nbconvert_exporter": "python",
   "pygments_lexer": "ipython3",
   "version": "3.9.13"
  }
 },
 "nbformat": 4,
 "nbformat_minor": 5
}
