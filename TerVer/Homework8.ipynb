{
 "cells": [
  {
   "cell_type": "code",
   "execution_count": 1,
   "id": "45f01290",
   "metadata": {},
   "outputs": [],
   "source": [
    "import numpy as np\n",
    "import scipy.stats as stats\n",
    "import matplotlib.pyplot as plt"
   ]
  },
  {
   "cell_type": "markdown",
   "id": "bcb0bf28",
   "metadata": {},
   "source": [
    "### Задача 1:\n",
    "\n",
    "Даны значения величины заработной платы заемщиков банка (zp) и значения их поведенческого кредитного скоринга (ks):\n",
    "\n",
    "zp = [35, 45, 190, 200, 40, 70, 54, 150, 120, 110],\n",
    "\n",
    "ks = [401, 574, 874, 919, 459, 739, 653, 902, 746, 832].\n",
    "\n",
    "Найдите ковариацию этих двух величин с помощью элементарных действий, а затем с помощью функции cov из numpy\n",
    "\n",
    "Полученные значения должны быть равны.\n",
    "\n",
    "Найдите коэффициент корреляции Пирсона с помощью ковариации и среднеквадратичных отклонений двух признаков, а затем с использованием функций из библиотек numpy и pandas."
   ]
  },
  {
   "cell_type": "code",
   "execution_count": 2,
   "id": "08a2f953",
   "metadata": {},
   "outputs": [
    {
     "data": {
      "image/png": "[encoded data removed]",
      "text/plain": [
       "<Figure size 640x480 with 1 Axes>"
      ]
     },
     "metadata": {},
     "output_type": "display_data"
    }
   ],
   "source": [
    "zp = np.array([35, 45, 190, 200, 40, 70, 54, 150, 120, 110])\n",
    "ks = np.array([401, 574, 874, 919, 459, 739, 653, 902, 746, 832])\n",
    "plt.scatter(zp,ks)\n",
    "plt.show()"
   ]
  },
  {
   "cell_type": "code",
   "execution_count": 16,
   "id": "a15c4e09",
   "metadata": {},
   "outputs": [
    {
     "name": "stdout",
     "output_type": "stream",
     "text": [
      "Ковариация \"вручную\": 9157.839999999997\n",
      "Ковариация по функции np.cov:\n",
      " [[ 3494.64  9157.84]\n",
      " [ 9157.84 30468.89]]\n",
      "Корреляция \"вручную\": 0.8874900920739158\n",
      "Kоэффициент корреляции по функции np.corrcoef:\n",
      " [[1.         0.88749009]\n",
      " [0.88749009 1.        ]]\n"
     ]
    }
   ],
   "source": [
    "cov = np.mean(zp * ks) - np.mean(zp)*np.mean(ks)\n",
    "cor_zp_ks = cov/(np.std(zp)*np.std(ks))\n",
    "print(f'Ковариация \"вручную\": {cov}')\n",
    "print(f'Ковариация по функции np.cov:\\n {np.cov(zp, ks, ddof =0)}')\n",
    "print(f'Корреляция \"вручную\": {cor_zp_ks}')\n",
    "print(f'Kоэффициент корреляции по функции np.corrcoef:\\n {np.corrcoef(zp, ks)}') \n",
    "\n",
    "\n",
    "\n",
    "\n"
   ]
  },
  {
   "cell_type": "markdown",
   "id": "1a4add29",
   "metadata": {},
   "source": [
    "### Задача 2:\n",
    "\n",
    "Измерены значения IQ выборки студентов,\n",
    "обучающихся в местных технических вузах:\n",
    "\n",
    "131, 125, 115, 122, 131, 115, 107, 99, 125, 111.\n",
    "\n",
    "Известно, что в генеральной совокупности IQ распределен нормально.\n",
    "\n",
    "Найдите доверительный интервал для математического ожидания с надежностью 0.95."
   ]
  },
  {
   "cell_type": "code",
   "execution_count": 8,
   "id": "432857d4",
   "metadata": {},
   "outputs": [
    {
     "name": "stdout",
     "output_type": "stream",
     "text": [
      "ОТВЕТ: Доверительный интервал с надежностью 0.95: (110.56, 125.64]\n"
     ]
    }
   ],
   "source": [
    "arr_IQ = [ 131, 125, 115, 122, 131, 115, 107, 99, 125, 111 ]\n",
    "a = 1 - 0.95\n",
    "\n",
    "mu = np.mean(arr_IQ)       \n",
    "dev = np.std(arr_IQ, ddof=1 )         \n",
    "t_st = stats.t.ppf(1 - a / 2, (len(arr_IQ) - 1))                           \n",
    "\n",
    "print( f\"ОТВЕТ: Доверительный интервал с надежностью 0.95: ({(mu - t_st * dev / 10**0.5 ):.2f}, {( mu + t_st * dev / 10**0.5 ):.2f}]\" )\n"
   ]
  },
  {
   "cell_type": "markdown",
   "id": "9095eadb",
   "metadata": {},
   "source": [
    "### Задача 3: \n",
    "\n",
    "Известно, что рост футболистов в сборной распределен нормально с дисперсией генеральной совокупности, равной 25 кв.см. Объем выборки равен 27, среднее выборочное составляет 174.2. Найдите доверительный интервал для математического ожидания с надежностью 0.95."
   ]
  },
  {
   "cell_type": "code",
   "execution_count": 7,
   "id": "48f247a8",
   "metadata": {},
   "outputs": [
    {
     "name": "stdout",
     "output_type": "stream",
     "text": [
      "ОТВЕТ: Доверительный интервал с надежностью 0.95: (172.31, 176.09]\n"
     ]
    }
   ],
   "source": [
    "disp = 25\n",
    "n = 27\n",
    "mv = 174.2\n",
    "a = 1 - 0.95\n",
    "\n",
    "SE = disp**0.5 / n**0.5                                                           \n",
    "Z = stats.norm.ppf( 1 - a / 2 )                                                \n",
    "\n",
    "print( f\"ОТВЕТ: Доверительный интервал с надежностью 0.95: ({( mv - Z * SE ):.2f}, {( mv + Z * SE ):.2f}]\" )"
   ]
  },
  {
   "cell_type": "code",
   "execution_count": null,
   "id": "81426646",
   "metadata": {},
   "outputs": [],
   "source": []
  }
 ],
 "metadata": {
  "kernelspec": {
   "display_name": "Python 3 (ipykernel)",
   "language": "python",
   "name": "python3"
  },
  "language_info": {
   "codemirror_mode": {
    "name": "ipython",
    "version": 3
   },
   "file_extension": ".py",
   "mimetype": "text/x-python",
   "name": "python",
   "nbconvert_exporter": "python",
   "pygments_lexer": "ipython3",
   "version": "3.9.13"
  }
 },
 "nbformat": 4,
 "nbformat_minor": 5
}
