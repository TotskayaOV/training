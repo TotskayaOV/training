{
 "cells": [
  {
   "cell_type": "code",
   "execution_count": 1,
   "id": "2857c157",
   "metadata": {},
   "outputs": [],
   "source": [
    "import numpy as np\n",
    "import scipy.stats as stats"
   ]
  },
  {
   "cell_type": "markdown",
   "id": "e9cd8f2f",
   "metadata": {},
   "source": [
    "Задача 1. Даны две независимые выборки. Не соблюдается условие нормальности\n",
    "x1 380,420, 290\n",
    "y1 140,360,200,900\n",
    "Сделайте вывод по результатам, полученным с помощью функции, имеются ли статистические различия между группами?"
   ]
  },
  {
   "cell_type": "code",
   "execution_count": 2,
   "id": "d59dc84c",
   "metadata": {},
   "outputs": [
    {
     "data": {
      "text/plain": [
       "MannwhitneyuResult(statistic=8.0, pvalue=0.6285714285714286)"
      ]
     },
     "execution_count": 2,
     "metadata": {},
     "output_type": "execute_result"
    }
   ],
   "source": [
    "x1 = np.array([380,420, 290])\n",
    "y1 = np.array([140,360,200,900])\n",
    "stats.mannwhitneyu(x1,y1)"
   ]
  },
  {
   "cell_type": "markdown",
   "id": "6e3e5d89",
   "metadata": {},
   "source": [
    "Используем Критерий Манна Уитни. Ответ: При альфе равной 0.05 статистических различий нет"
   ]
  },
  {
   "cell_type": "markdown",
   "id": "affc3d39",
   "metadata": {},
   "source": [
    "Задача 2. Исследовалось влияние препарата на уровень давления пациентов. Сначала\n",
    "измерялось давление до приема препарата, потом через 10 минут и через 30 минут. Есть\n",
    "ли статистически значимые различия между измерениями давления? В выборках не соблюдается условие нормальности.\n",
    "1е измерение до приема препарата: 150, 160, 165, 145, 155\n",
    "2е измерение через 10 минут: 140, 155, 150, 130, 135\n",
    "3е измерение через 30 минут: 130, 130, 120, 130, 125"
   ]
  },
  {
   "cell_type": "code",
   "execution_count": 3,
   "id": "17b9a7f1",
   "metadata": {},
   "outputs": [
    {
     "data": {
      "text/plain": [
       "FriedmanchisquareResult(statistic=9.578947368421062, pvalue=0.00831683351100441)"
      ]
     },
     "execution_count": 3,
     "metadata": {},
     "output_type": "execute_result"
    }
   ],
   "source": [
    "before = np.array([150, 160, 165, 145, 155])\n",
    "after_10 = np.array([140, 155, 150, 130, 135])\n",
    "after_30 = np.array([130, 130, 120, 130, 125])\n",
    "stats.friedmanchisquare(before, after_10, after_30)"
   ]
  },
  {
   "cell_type": "markdown",
   "id": "3bdb19c8",
   "metadata": {},
   "source": [
    "Используем критерий Фридмана. Ответ: При альфе равной 0.05 есть статистические различия"
   ]
  },
  {
   "cell_type": "markdown",
   "id": "a030d850",
   "metadata": {},
   "source": [
    "Задача 3. Сравните 1 и 2 е измерения, предполагая, что 3го измерения через 30 минут не было. Есть\n",
    "ли статистически значимые различия между измерениями давления?"
   ]
  },
  {
   "cell_type": "code",
   "execution_count": 4,
   "id": "d838202d",
   "metadata": {},
   "outputs": [
    {
     "data": {
      "text/plain": [
       "WilcoxonResult(statistic=0.0, pvalue=0.0625)"
      ]
     },
     "execution_count": 4,
     "metadata": {},
     "output_type": "execute_result"
    }
   ],
   "source": [
    "stats.wilcoxon(before, after_10)"
   ]
  },
  {
   "cell_type": "markdown",
   "id": "89c625ac",
   "metadata": {},
   "source": [
    "Используем критерий Уилкоксона. Ответ: При альфе равной 0.05 нет статистических различий"
   ]
  },
  {
   "cell_type": "markdown",
   "id": "6d0f3682",
   "metadata": {},
   "source": [
    "Задача 4. Даны 3 группы учеников плавания. Не соблюдается условие нормальности.\n",
    "В 1 группе время на дистанцию 50 м составляют: 56, 60, 62, 55, 71, 67, 59, 58, 64, 67\n",
    "Вторая группа : 57, 58, 69, 48, 72, 70, 68, 71, 50, 53\n",
    "Третья группа: 57, 67, 49, 48, 47, 55, 66, 51, 54\n",
    "Есть ли статистически значимые различия между группами?"
   ]
  },
  {
   "cell_type": "code",
   "execution_count": 5,
   "id": "d744adf9",
   "metadata": {},
   "outputs": [
    {
     "data": {
      "text/plain": [
       "KruskalResult(statistic=5.465564058257224, pvalue=0.0650380998590494)"
      ]
     },
     "execution_count": 5,
     "metadata": {},
     "output_type": "execute_result"
    }
   ],
   "source": [
    "group_1 = np.array([56, 60, 62, 55, 71, 67, 59, 58, 64, 67])\n",
    "group_2 = np.array([57, 58, 69, 48, 72, 70, 68, 71, 50, 53])\n",
    "group_3 = np.array([57, 67, 49, 48, 47, 55, 66, 51, 54])\n",
    "stats.kruskal(group_1, group_2, group_3)"
   ]
  },
  {
   "cell_type": "markdown",
   "id": "61dc5726",
   "metadata": {},
   "source": [
    "Используем критерий Крускала-Уоллиса. Ответ: При альфе равной 0.05 нет статистических различий"
   ]
  },
  {
   "cell_type": "markdown",
   "id": "818db850",
   "metadata": {},
   "source": [
    "Задача 5. Заявляется, что партия изготавливается со средним арифметическим 2,5 см. Проверить\n",
    "данную гипотезу, если известно, что размеры изделий подчинены нормальному закону\n",
    "распределения. Объем выборки 10, уровень статистической значимости 5%\n",
    "2.51, 2.35, 2.74, 2.56, 2.40, 2.36, 2.65, 2.7, 2.67, 2.34"
   ]
  },
  {
   "cell_type": "code",
   "execution_count": 6,
   "id": "9d2c877e",
   "metadata": {},
   "outputs": [
    {
     "name": "stdout",
     "output_type": "stream",
     "text": [
      "среднее: 2.5279999999999996\n",
      "ср. кв. отклонение: 0.1572542173961923\n",
      "t критическое: -2.262157162740992\n",
      "Доверительный интервал (2.4155071095954663, 2.640492890404533]\n"
     ]
    }
   ],
   "source": [
    "x = [2.51, 2.35, 2.74, 2.56, 2.40, 2.36, 2.65, 2.7, 2.67, 2.34]\n",
    "n = len(x)\n",
    "x_mean = np.mean(x)\n",
    "print(f'среднее: {x_mean}')\n",
    "x_std = np.std(x, ddof=1)\n",
    "print(f'ср. кв. отклонение: {x_std}')\n",
    "\n",
    "t_cr = stats.t.ppf(0.05/2, n-1)\n",
    "print(f't критическое: {t_cr}')\n",
    "X1 = x_mean - t_cr*x_std/n**0.5\n",
    "X2 = x_mean + t_cr*x_std/n**0.5\n",
    "print(f'Доверительный интервал ({X2}, {X1}]')"
   ]
  },
  {
   "cell_type": "markdown",
   "id": "b0ff9d3d",
   "metadata": {},
   "source": [
    "Используем критерий Cтьюдента поскольку среднее квадратичное отклонение генеральной совокупности неизвестно.\n",
    "2,5 входит в доверительный интервла.Гипотеза о том, что партия изготавливается со средним арифметическим 2,5 см не отклоняется"
   ]
  },
  {
   "cell_type": "code",
   "execution_count": null,
   "id": "e493b7b9",
   "metadata": {},
   "outputs": [],
   "source": []
  }
 ],
 "metadata": {
  "kernelspec": {
   "display_name": "Python 3 (ipykernel)",
   "language": "python",
   "name": "python3"
  },
  "language_info": {
   "codemirror_mode": {
    "name": "ipython",
    "version": 3
   },
   "file_extension": ".py",
   "mimetype": "text/x-python",
   "name": "python",
   "nbconvert_exporter": "python",
   "pygments_lexer": "ipython3",
   "version": "3.9.13"
  }
 },
 "nbformat": 4,
 "nbformat_minor": 5
}
