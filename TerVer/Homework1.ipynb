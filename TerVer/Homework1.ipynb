{
 "cells": [
  {
   "cell_type": "markdown",
   "id": "b62903a6",
   "metadata": {},
   "source": [
    "**Из колоды в 52 карты извлекаются случайным образом 4 карты.**\n",
    "a) Найти вероятность того, что все карты – крести. \n",
    "б) Найти вероятность, что среди 4-х карт окажется хотя бы один туз."
   ]
  },
  {
   "cell_type": "code",
   "execution_count": 1,
   "id": "c0308240",
   "metadata": {},
   "outputs": [],
   "source": [
    "import numpy as np\n",
    "from math import factorial"
   ]
  },
  {
   "cell_type": "code",
   "execution_count": 2,
   "id": "e84cfb4a",
   "metadata": {},
   "outputs": [],
   "source": [
    "def combination(n, k):\n",
    "    return np.math.factorial(n) / (np.math.factorial(k) * np.math.factorial(n-k))"
   ]
  },
  {
   "cell_type": "markdown",
   "id": "daf6df8e",
   "metadata": {},
   "source": [
    "**а)** В колоде по 13 карт каждой масти. Рассчитываем количество вариантов крестовых карт в вытащенных 4 картах и общее количество исходов при 4 картах:"
   ]
  },
  {
   "cell_type": "code",
   "execution_count": 3,
   "id": "32c6d572",
   "metadata": {},
   "outputs": [],
   "source": [
    "m_kresti = combination(13, 4)\n",
    "n = combination(52, 4)"
   ]
  },
  {
   "cell_type": "markdown",
   "id": "7efb32cd",
   "metadata": {},
   "source": [
    "Вычисляем по формуле вероятности P(a) = m/n"
   ]
  },
  {
   "cell_type": "code",
   "execution_count": 4,
   "id": "baae0af2",
   "metadata": {},
   "outputs": [
    {
     "name": "stdout",
     "output_type": "stream",
     "text": [
      "0.0026410564225690276\n"
     ]
    }
   ],
   "source": [
    "P = m_kresti/n\n",
    "print(P)"
   ]
  },
  {
   "cell_type": "markdown",
   "id": "582b9918",
   "metadata": {},
   "source": [
    "Ответ: вероятность того, что все карты крести - 0,26%"
   ]
  },
  {
   "cell_type": "markdown",
   "id": "f8d97f3c",
   "metadata": {},
   "source": [
    "**б)** Считаем варианты когда достали 3 не туза и 1 туз,2 не туза и 2 туза, 1 не туз и 3 туза и 4 туза(1)"
   ]
  },
  {
   "cell_type": "code",
   "execution_count": 5,
   "id": "756a8f2c",
   "metadata": {},
   "outputs": [],
   "source": [
    "a = combination(48, 3)\n",
    "b = combination(4, 1)\n",
    "c = combination(48, 2)\n",
    "d = combination(4, 2)\n",
    "e = combination(48, 1)\n",
    "f = combination(4, 3)\n",
    "m_tuzy = (a*b) + (c*d) + (e*f) + 1"
   ]
  },
  {
   "cell_type": "markdown",
   "id": "73e32f72",
   "metadata": {},
   "source": [
    "Рассчитываем по формуле вероятности P(a) = m/n. n известно из предыдущего решения"
   ]
  },
  {
   "cell_type": "code",
   "execution_count": 6,
   "id": "1bce2698",
   "metadata": {},
   "outputs": [
    {
     "name": "stdout",
     "output_type": "stream",
     "text": [
      "0.2812632745405855\n"
     ]
    }
   ],
   "source": [
    "P2 = m_tuzy/n\n",
    "print(P2)"
   ]
  },
  {
   "cell_type": "markdown",
   "id": "ab33fa80",
   "metadata": {},
   "source": [
    "28% Вероятность вытащить вытащить хотя бы 1 туз"
   ]
  },
  {
   "cell_type": "markdown",
   "id": "6ade2dc7",
   "metadata": {},
   "source": [
    "**На входной двери подъезда установлен кодовый замок, содержащий десять кнопок с цифрами от 0 до 9.** Код содержит три цифры, которые нужно нажать одновременно. Какова вероятность того, что человек, не знающий код, откроет дверь с первой попытки?"
   ]
  },
  {
   "cell_type": "markdown",
   "id": "9e6c9833",
   "metadata": {},
   "source": [
    "Человек может нажать на 1 кнопку единожды при наборе кода, поэтому выбор остальных кнопок будет из оставшегося количества."
   ]
  },
  {
   "cell_type": "code",
   "execution_count": 2,
   "id": "27ed09fa",
   "metadata": {},
   "outputs": [
    {
     "name": "stdout",
     "output_type": "stream",
     "text": [
      "0.008333333333333333\n"
     ]
    }
   ],
   "source": [
    "res_code = 3/10* 2/9 * 1/8\n",
    "print(res_code)"
   ]
  },
  {
   "cell_type": "markdown",
   "id": "38c7f7ce",
   "metadata": {},
   "source": [
    "Ответ: 0,83%"
   ]
  },
  {
   "cell_type": "markdown",
   "id": "1824d69a",
   "metadata": {},
   "source": [
    "**В ящике имеется 15 деталей, из которых 9 окрашены.** \n",
    "Рабочий случайным образом извлекает 3 детали. Какова вероятность того, что все извлеченные детали окрашены?"
   ]
  },
  {
   "cell_type": "code",
   "execution_count": 10,
   "id": "92b0327a",
   "metadata": {},
   "outputs": [
    {
     "name": "stdout",
     "output_type": "stream",
     "text": [
      "0.18461538461538463\n"
     ]
    }
   ],
   "source": [
    "def combination(n, k):\n",
    "    return np.math.factorial(n) / (np.math.factorial(k) * np.math.factorial(n-k))\n",
    "vsego_ishodov = combination(15, 3)\n",
    "pologitelnye_ishody = combination(9, 3)\n",
    "res = pologitelnye_ishody/vsego_ishodov\n",
    "print (res)"
   ]
  },
  {
   "cell_type": "markdown",
   "id": "0edec7a9",
   "metadata": {},
   "source": [
    "Ответ: вероятность извлечь все окрашенные детали 18,5%"
   ]
  },
  {
   "cell_type": "markdown",
   "id": "28137081",
   "metadata": {},
   "source": [
    "**В лотерее 100 билетов. Из них 2 выигрышных.** \n",
    "Какова вероятность того, что 2 приобретенных билета окажутся выигрышными?"
   ]
  },
  {
   "cell_type": "code",
   "execution_count": 12,
   "id": "ddd767d5",
   "metadata": {},
   "outputs": [
    {
     "name": "stdout",
     "output_type": "stream",
     "text": [
      "0.00010101010101010102\n"
     ]
    }
   ],
   "source": [
    "pervyi_bilet = 1/100\n",
    "vtoroi_bilet= 1/99\n",
    "win_combo = pervyi_bilet*vtoroi_bilet\n",
    "print(win_combo)"
   ]
  },
  {
   "cell_type": "markdown",
   "id": "8e6a1eb0",
   "metadata": {},
   "source": [
    "Ответ: 0.01 %"
   ]
  }
 ],
 "metadata": {
  "kernelspec": {
   "display_name": "Python 3 (ipykernel)",
   "language": "python",
   "name": "python3"
  },
  "language_info": {
   "codemirror_mode": {
    "name": "ipython",
    "version": 3
   },
   "file_extension": ".py",
   "mimetype": "text/x-python",
   "name": "python",
   "nbconvert_exporter": "python",
   "pygments_lexer": "ipython3",
   "version": "3.9.13"
  }
 },
 "nbformat": 4,
 "nbformat_minor": 5
}
