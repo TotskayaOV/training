{
 "cells": [
  {
   "cell_type": "code",
   "execution_count": 1,
   "id": "f91a9612",
   "metadata": {},
   "outputs": [],
   "source": [
    "import numpy as np\n",
    "import scipy.stats as stats\n",
    "import matplotlib.pyplot as plt\n",
    "from sklearn.linear_model import LinearRegression"
   ]
  },
  {
   "cell_type": "markdown",
   "id": "19e40b3b",
   "metadata": {},
   "source": [
    "Провести дисперсионный анализ для определения того, есть ли различия среднего роста среди взрослых футболистов, хоккеистов и штангистов.\n",
    "Даны значения роста в трех группах случайно выбранных спортсменов:\n",
    "\n",
    "* Футболисты: 173, 175, 180, 178, 177, 185, 183, 182.\n",
    "\n",
    "* Хоккеисты: 177, 179, 180, 188, 177, 172, 171, 184, 180.\n",
    "\n",
    "* Штангисты: 172, 173, 169, 177, 166, 180, 178, 177, 172, 166, 170."
   ]
  },
  {
   "cell_type": "code",
   "execution_count": 2,
   "id": "dd8db0b0",
   "metadata": {},
   "outputs": [
    {
     "name": "stdout",
     "output_type": "stream",
     "text": [
      "Проверяем на нормальность распределения 1 выборку: ShapiroResult(statistic=0.9775082468986511, pvalue=0.9495404362678528)\n",
      "Проверяем на нормальность распределения 2 выборку: ShapiroResult(statistic=0.9579196572303772, pvalue=0.7763139009475708)\n",
      "Проверяем на нормальность распределения 3 выборку: ShapiroResult(statistic=0.9386808276176453, pvalue=0.5051165223121643)\n",
      "\n",
      "Ошибка 1 рода: 0.1426250000000001\n",
      "\n",
      "Средняя арифметическая по выборке:\n",
      "Футболисты: 179.125\n",
      "Хоккеисты: 178.66666666666666\n",
      "Штангисты: 172.72727272727272\n"
     ]
    }
   ],
   "source": [
    "group_f = np.array([173, 175, 180, 178, 177, 185, 183, 182])\n",
    "group_h = np.array([177, 179, 180, 188, 177, 172, 171, 184, 180])\n",
    "group_s = np.array([172, 173, 169, 177, 166, 180, 178, 177, 172, 166, 170])\n",
    "\n",
    "print(f'Проверяем на нормальность распределения 1 выборку: {stats.shapiro(group_f)}')\n",
    "print(f'Проверяем на нормальность распределения 2 выборку: {stats.shapiro(group_h)}')\n",
    "print(f'Проверяем на нормальность распределения 3 выборку: {stats.shapiro(group_s)}')\n",
    "print()\n",
    "\n",
    "alpha = 1 - (1 -0.05)**3\n",
    "print(f'Ошибка 1 рода: {alpha}')\n",
    "k = 3\n",
    "nf = len(group_f)\n",
    "nh = len(group_h)\n",
    "ns = len(group_s)\n",
    "n = nf + nh + ns\n",
    "print()\n",
    " \n",
    "f_mean = np.mean(group_f)\n",
    "h_mean = np.mean(group_h)\n",
    "s_mean = np.mean(group_s)\n",
    "print(f'Средняя арифметическая по выборке:\\nФутболисты: {f_mean}\\nХоккеисты: {h_mean}\\nШтангисты: {s_mean}')"
   ]
  },
  {
   "cell_type": "code",
   "execution_count": 3,
   "id": "0fcd33c7",
   "metadata": {},
   "outputs": [
    {
     "name": "stdout",
     "output_type": "stream",
     "text": [
      "[173 175 180 178 177 185 183 182 177 179 180 188 177 172 171 184 180 172\n",
      " 173 169 177 166 180 178 177 172 166 170]\n",
      "Средняя арифметическая по всем выборкам: 176.46428571428572\n",
      "Сумма квадратов отклонений средних групповых значений от общего среднего: 253.9074675324678\n",
      "Остаточная сумма квадратов отклонений: 577.0568181818182\n",
      "Сумма квадратов отклонений наблюдейний от общего среднего: 830.964285714286\n"
     ]
    }
   ],
   "source": [
    "total = np.array([173, 175, 180, 178, 177, 185, 183, 182, 177, 179, 180, 188, 177, 172, 171, 184, 180, 172, 173, 169, 177, 166, 180, 178, 177, 172, 166, 170])\n",
    "print(total)\n",
    "total_mean = np.mean(total)\n",
    "print(f'Средняя арифметическая по всем выборкам: {total_mean}')\n",
    "\n",
    "\n",
    "S_f = np.sum((f_mean - total_mean)**2) * nf + np.sum((h_mean - total_mean)**2) * nh + np.sum((s_mean - total_mean)**2) * ns\n",
    "print(f'Сумма квадратов отклонений средних групповых значений от общего среднего: {S_f}')\n",
    "S_ost = np.sum((group_f - f_mean)**2) + np.sum((group_h - h_mean)**2) + np.sum((group_s - s_mean)**2)\n",
    "print(f'Остаточная сумма квадратов отклонений: {S_ost}')\n",
    "S_ob = S_f + S_ost\n",
    "print(f'Сумма квадратов отклонений наблюдейний от общего среднего: {S_ob}')"
   ]
  },
  {
   "cell_type": "code",
   "execution_count": 4,
   "id": "2ee90f7e",
   "metadata": {},
   "outputs": [
    {
     "name": "stdout",
     "output_type": "stream",
     "text": [
      "Факторная дисперсия: 126.9537337662339\n",
      "Остаточная дисперсия: 23.08227272727273\n",
      "Критерий Фишера: 5.500053450812598\n"
     ]
    }
   ],
   "source": [
    "D_f = S_f / (k - 1)\n",
    "print(f'Факторная дисперсия: {D_f}')\n",
    "D_ost = S_ost / (n - k)\n",
    "print(f'Остаточная дисперсия: {D_ost}')\n",
    "F_n = D_f / D_ost\n",
    "print(f'Критерий Фишера: {F_n}')"
   ]
  },
  {
   "cell_type": "code",
   "execution_count": 5,
   "id": "dbb24ffd",
   "metadata": {},
   "outputs": [
    {
     "data": {
      "text/plain": [
       "F_onewayResult(statistic=5.500053450812596, pvalue=0.010482206918698694)"
      ]
     },
     "execution_count": 5,
     "metadata": {},
     "output_type": "execute_result"
    }
   ],
   "source": [
    "f = stats.f_oneway(group_f, group_h, group_s)\n",
    "f"
   ]
  },
  {
   "cell_type": "code",
   "execution_count": 6,
   "id": "d672968d",
   "metadata": {},
   "outputs": [
    {
     "name": "stdout",
     "output_type": "stream",
     "text": [
      "          Multiple Comparison of Means - Tukey HSD, FWER=0.05          \n",
      "=======================================================================\n",
      "     group1          group2     meandiff p-adj   lower    upper  reject\n",
      "-----------------------------------------------------------------------\n",
      "football players hockey players  -0.4583  0.979  -6.2732  5.3566  False\n",
      "football players  weightlifters  -6.3977 0.0219 -11.9583 -0.8372   True\n",
      "  hockey players  weightlifters  -5.9394 0.0284 -11.3181 -0.5607   True\n",
      "-----------------------------------------------------------------------\n"
     ]
    }
   ],
   "source": [
    "from statsmodels.stats.multicomp import pairwise_tukeyhsd\n",
    "\n",
    "import pandas as pd\n",
    "df = pd.DataFrame({'score': [173, 175, 180, 178, 177, 185, 183, 182, 177, 179, 180, 188, 177, 172, 171, 184, 180, 172, 173, 169, 177, 166, 180, 178, 177, 172, 166, 170],\n",
    "                  'group': np.repeat(['football players', 'hockey players', 'weightlifters'], repeats=[nf, nh , ns])})\n",
    "tukey = pairwise_tukeyhsd(endog=df['score'],\n",
    "                         groups=df['group'],\n",
    "                         alpha=0.05)\n",
    "print(tukey)"
   ]
  },
  {
   "cell_type": "markdown",
   "id": "8310dd77",
   "metadata": {},
   "source": [
    "### Вывод:\n",
    "\n",
    "Исходя из полученных результатов можно считать, что статистические различия в росте футболистов, хоккеистов и штангистов есть. \n",
    "\n",
    "При уточнении получены данные, что статистические значимые различия есть только между выборкой роста группы штангистов с остальными двумя группами, при этом в росте хоккеистов и футболистов статистически значимых различий нет."
   ]
  }
 ],
 "metadata": {
  "kernelspec": {
   "display_name": "Python 3 (ipykernel)",
   "language": "python",
   "name": "python3"
  },
  "language_info": {
   "codemirror_mode": {
    "name": "ipython",
    "version": 3
   },
   "file_extension": ".py",
   "mimetype": "text/x-python",
   "name": "python",
   "nbconvert_exporter": "python",
   "pygments_lexer": "ipython3",
   "version": "3.9.13"
  }
 },
 "nbformat": 4,
 "nbformat_minor": 5
}
