{
 "cells": [
  {
   "cell_type": "code",
   "execution_count": 33,
   "id": "0944ded5",
   "metadata": {},
   "outputs": [],
   "source": [
    "def summctg(a, b):\n",
    "    return a+b"
   ]
  },
  {
   "cell_type": "code",
   "execution_count": 34,
   "id": "9607d852",
   "metadata": {},
   "outputs": [],
   "source": [
    "def x_obs(x01, x02, y01, y02, ctg01, ctg02, summctg):\n",
    "    result = ((x01 * ctg02 + x02 * ctg01 + y02 - y01)/summctg)\n",
    "    return result"
   ]
  },
  {
   "cell_type": "code",
   "execution_count": 35,
   "id": "5fc05dc2",
   "metadata": {},
   "outputs": [],
   "source": [
    "def y_obs(x01, x02, y01, y02, ctg01, ctg02, summctg):\n",
    "    result = ((y01 * ctg02 + y02 * ctg01 + x01 - x01)/summctg)\n",
    "    return result"
   ]
  },
  {
   "cell_type": "code",
   "execution_count": 49,
   "id": "6be40fa3",
   "metadata": {},
   "outputs": [
    {
     "name": "stdout",
     "output_type": "stream",
     "text": [
      "-348.6900000000005\n",
      "-4.390000000000327\n",
      "0.012589979638074855\n",
      "348.791\n",
      "558.9508530685418\n",
      "453.8709265342709\n"
     ]
    }
   ],
   "source": [
    "x1 = 5785.31\n",
    "x2 = 5436.62\n",
    "y1 = 7984.93\n",
    "y2 = 7980.54\n",
    "d_x =x2-x1\n",
    "d_y = y2-y1\n",
    "print(d_x)\n",
    "print(d_y)\n",
    "print(d_y/d_x)\n",
    "ctg1 = 348.791\n",
    "ctg2 = d_y / (-0.007854)\n",
    "print(ctg1)\n",
    "print(ctg2)\n",
    "print((ctg1+ctg2)/2)"
   ]
  },
  {
   "cell_type": "code",
   "execution_count": 48,
   "id": "9a2da85a",
   "metadata": {},
   "outputs": [],
   "source": [
    "x12 = 6660308.4\n",
    "y12 = 7514638.6\n",
    "ctg11 = 0.7186023019\n",
    "ctg12 = 0.9882687157"
   ]
  },
  {
   "cell_type": "code",
   "execution_count": 38,
   "id": "ffb229f1",
   "metadata": {},
   "outputs": [
    {
     "name": "stdout",
     "output_type": "stream",
     "text": [
      "сумма первых котангенсов 1.1532854713\n",
      "сумма вторых котангенсов 1.7068710176\n"
     ]
    }
   ],
   "source": [
    "summ1ctg = summctg(ctg1, ctg2)\n",
    "print (f'сумма первых котангенсов {summ1ctg}')\n",
    "summ2ctg = summctg(ctg11, ctg12)\n",
    "print (f'сумма вторых котангенсов {summ2ctg}')"
   ]
  },
  {
   "cell_type": "code",
   "execution_count": 39,
   "id": "f9d89df8",
   "metadata": {},
   "outputs": [
    {
     "name": "stdout",
     "output_type": "stream",
     "text": [
      "Xоп1 6659888.206460755\n",
      "Yоп1 7513157.427582676\n",
      "Xоп2 6659612.955082197\n",
      "Yоп2 7514327.680021361\n"
     ]
    }
   ],
   "source": [
    "x1op = x_obs(x1, x2, y1, y2, ctg1, ctg2, summ1ctg)\n",
    "y1op = y_obs(x1, x2, y1, y2, ctg1, ctg2, summ1ctg)\n",
    "x2op = x_obs(x2, x12, y2, y12, ctg11, ctg12, summ2ctg)\n",
    "y2op = y_obs(x2, x12, y2, y12, ctg11, ctg12, summ2ctg)\n",
    "print(f'Xоп1 {x1op}')\n",
    "print(f'Yоп1 {y1op}')\n",
    "print(f'Xоп2 {x2op}')\n",
    "print(f'Yоп2 {y2op}')"
   ]
  },
  {
   "cell_type": "code",
   "execution_count": 40,
   "id": "bd49b250",
   "metadata": {},
   "outputs": [
    {
     "name": "stdout",
     "output_type": "stream",
     "text": [
      "Xсред 6659750.580771476\n",
      "Yсред 7513157.427582676\n"
     ]
    }
   ],
   "source": [
    "xopsred = (x1op + x2op) / 2\n",
    "yopsred = (y1op + y1op) / 2\n",
    "print(f'Xсред {xopsred}')\n",
    "print(f'Yсред {yopsred}')"
   ]
  },
  {
   "cell_type": "code",
   "execution_count": 61,
   "id": "68144973",
   "metadata": {},
   "outputs": [
    {
     "name": "stdout",
     "output_type": "stream",
     "text": [
      "del_x -26.997867\n",
      "del_y -0.33928200000000003\n",
      "coor_X 5730.192133\n",
      "coor_Y 8072.850718\n"
     ]
    }
   ],
   "source": [
    "d= 27.00\n",
    "# 180,72\n",
    "cos = -0.999921\n",
    "sin = -0.012566\n",
    "# 90,72\n",
    "# cos = -0.012566\n",
    "# sin = 0.999921\n",
    "# 0,72\n",
    "# cos = 0.999921\n",
    "# sin = 0.012566\n",
    "del_x = d*cos\n",
    "del_y = d*sin\n",
    "print(f'del_x {del_x}')\n",
    "print(f'del_y {del_y}')\n",
    "coor_X = 5757.19 + del_x\n",
    "coor_Y = 8073.19 + del_y\n",
    "print(f'coor_X {coor_X}')\n",
    "print(f'coor_Y {coor_Y}')"
   ]
  },
  {
   "cell_type": "code",
   "execution_count": 53,
   "id": "966ff9e2",
   "metadata": {},
   "outputs": [
    {
     "ename": "TypeError",
     "evalue": "math.sin() takes exactly one argument (2 given)",
     "output_type": "error",
     "traceback": [
      "\u001b[1;31m---------------------------------------------------------------------------\u001b[0m",
      "\u001b[1;31mTypeError\u001b[0m                                 Traceback (most recent call last)",
      "\u001b[1;32m~\\AppData\\Local\\Temp\\ipykernel_7756\\2697503621.py\u001b[0m in \u001b[0;36m<module>\u001b[1;34m\u001b[0m\n\u001b[0;32m      1\u001b[0m \u001b[1;32mimport\u001b[0m \u001b[0mmath\u001b[0m\u001b[1;33m\u001b[0m\u001b[1;33m\u001b[0m\u001b[0m\n\u001b[1;32m----> 2\u001b[1;33m \u001b[0mmath\u001b[0m\u001b[1;33m.\u001b[0m\u001b[0msin\u001b[0m\u001b[1;33m(\u001b[0m\u001b[1;36m180\u001b[0m\u001b[1;33m,\u001b[0m\u001b[1;36m72\u001b[0m\u001b[1;33m)\u001b[0m\u001b[1;33m\u001b[0m\u001b[1;33m\u001b[0m\u001b[0m\n\u001b[0m",
      "\u001b[1;31mTypeError\u001b[0m: math.sin() takes exactly one argument (2 given)"
     ]
    }
   ],
   "source": []
  },
  {
   "cell_type": "code",
   "execution_count": 50,
   "id": "93e931c7",
   "metadata": {},
   "outputs": [
    {
     "name": "stdout",
     "output_type": "stream",
     "text": [
      "348.71754868634673 349.3554034697061 349.03647607802645\n"
     ]
    }
   ],
   "source": [
    "x1 = 5785.31\n",
    "x2 = 5436.62\n",
    "y1 = 7984.93\n",
    "y2 = 7980.54\n",
    "d_x =x2-x1\n",
    "d_y = y2-y1\n",
    "sin1 = -0.012566\n",
    "cos1=-0.999921\n",
    "S1 = d_x/cos1\n",
    "S2 = d_y/sin1\n",
    "Sob = (S1+S2)/2\n",
    "print(S1, S2, Sob)"
   ]
  },
  {
   "cell_type": "code",
   "execution_count": null,
   "id": "676de57d",
   "metadata": {},
   "outputs": [],
   "source": []
  }
 ],
 "metadata": {
  "kernelspec": {
   "display_name": "Python 3 (ipykernel)",
   "language": "python",
   "name": "python3"
  },
  "language_info": {
   "codemirror_mode": {
    "name": "ipython",
    "version": 3
   },
   "file_extension": ".py",
   "mimetype": "text/x-python",
   "name": "python",
   "nbconvert_exporter": "python",
   "pygments_lexer": "ipython3",
   "version": "3.9.13"
  }
 },
 "nbformat": 4,
 "nbformat_minor": 5
}
