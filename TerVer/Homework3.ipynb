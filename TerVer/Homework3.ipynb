{
 "cells": [
  {
   "cell_type": "code",
   "execution_count": 1,
   "id": "d043c384",
   "metadata": {},
   "outputs": [],
   "source": [
    "from math import factorial, e\n",
    "from sympy.plotting import plot\n",
    "import numpy as np\n",
    "import pandas as pd\n",
    "from matplotlib import *\n",
    "from matplotlib import pyplot as plt"
   ]
  },
  {
   "cell_type": "code",
   "execution_count": 2,
   "id": "6e88bdb5",
   "metadata": {},
   "outputs": [],
   "source": [
    "\n",
    "def combination(n: int, k: int) -> float:\n",
    "    return int(factorial(n) / (factorial(k) * factorial(n - k))) \n",
    "\n",
    "def puasson(l, m):\n",
    "  return (l**m / (factorial(m)) * e**(-l)) \n",
    "\n",
    "def bernulli(n, k, p):\n",
    "  return (factorial(n) / (factorial(k) * (factorial(n - k))) * p**k * (1-p)**(n - k))"
   ]
  },
  {
   "cell_type": "markdown",
   "id": "7beb813f",
   "metadata": {},
   "source": [
    "Даны значения зарплат из выборки выпускников: 100, 80, 75, 77, 89, 33, 45, 25, 65, 17, 30, 24, 57, 55, 70, 75, 65, 84, 90, 150. Посчитать (желательно без использования статистических методов наподобие std, var, mean) среднее арифметическое, среднее квадратичное отклонение, смещенную и несмещенную оценки дисперсий для данной выборки."
   ]
  },
  {
   "cell_type": "code",
   "execution_count": 3,
   "id": "f50129eb",
   "metadata": {},
   "outputs": [
    {
     "name": "stdout",
     "output_type": "stream",
     "text": [
      "среднее арифметическое: 65.3\n"
     ]
    }
   ],
   "source": [
    "array = [100, 80, 75, 77, 89, 33, 45, 25, 65, 17, 30, 24, 57, 55, 70, 75, 65, 84, 90, 150]\n",
    "sr_arifm = sum(array)/len(array)\n",
    "print(f'среднее арифметическое: {sr_arifm}')"
   ]
  },
  {
   "cell_type": "code",
   "execution_count": 4,
   "id": "bc7864b1",
   "metadata": {},
   "outputs": [
    {
     "name": "stdout",
     "output_type": "stream",
     "text": [
      "Среднее квадратичное отклонение = 30.82\n",
      "Cмещенная Дисперсия = 950.11\n",
      "Несмещенная Дисперсия = 1000.12\n"
     ]
    }
   ],
   "source": [
    "x = np.array([100, 80, 75, 77, 89, 33, 45, 25, 65, 17, 30, 24, 57, 55, 70, 75, 65, 84, 90, 150])\n",
    "print( f'Среднее квадратичное отклонение = {np.std( x ):.2f}' )\n",
    "print( f'Cмещенная Дисперсия = {np.var( x ):.2f}' )           \n",
    "print( f'Несмещенная Дисперсия = {np.var( x, ddof=1 ):.2f}' )  "
   ]
  },
  {
   "cell_type": "markdown",
   "id": "92a5be41",
   "metadata": {},
   "source": [
    "Задача 2. В первом ящике находится 8 мячей, из которых 5 - белые. Во втором ящике - 12 мячей, из которых 5 белых. Из первого ящика вытаскивают случайным образом два мяча, из второго - 4 мяча. Какова вероятность того, что 3 мяча белые?"
   ]
  },
  {
   "cell_type": "code",
   "execution_count": 5,
   "id": "9805a109",
   "metadata": {},
   "outputs": [
    {
     "name": "stdout",
     "output_type": "stream",
     "text": [
      "вероятность того, что 3 мяча белые: 36.87%\n"
     ]
    }
   ],
   "source": [
    "var1 = ((combination(3, 2) / combination(8, 2)) * ((combination(7, 1) * combination(5, 3)) / combination(12, 4)))\n",
    "var2 = (((combination(3, 1) * combination(5, 1)) / combination(8, 2)) * ((combination(7, 2) * combination(5, 2)) / combination(12, 4)))\n",
    "var3 = ((combination(5, 2) / combination(8, 2)) * ((combination(7, 3) * combination(5, 1)) / combination(12, 4)))\n",
    "p = var1+var2+var3\n",
    "print(f'вероятность того, что 3 мяча белые: {p*100:.2f}%')"
   ]
  },
  {
   "cell_type": "markdown",
   "id": "3c21fd9d",
   "metadata": {},
   "source": [
    "Задача 3. На соревновании по биатлону один из трех спортсменов стреляет и попадает в мишень. Вероятность попадания для первого спортсмена равна 0.9, для второго — 0.8, для третьего — 0.6. Найти вероятность того, что выстрел произведен: a). первым спортсменом б). вторым спортсменом в). третьим спортсменом."
   ]
  },
  {
   "cell_type": "code",
   "execution_count": 6,
   "id": "d28fb34f",
   "metadata": {},
   "outputs": [
    {
     "name": "stdout",
     "output_type": "stream",
     "text": [
      "Вероятность, что выстрелил 1 спортсмен = 39.13%\n",
      "Вероятность, что выстрелил 2 спортсмен = 34.78%\n",
      "Вероятность, что выстрелил 3 спортсмен = 26.09%\n"
     ]
    }
   ],
   "source": [
    "athlete1 = 0.9 \n",
    "athlete2 = 0.8 \n",
    "athlete3 = 0.6 \n",
    "choice_a = 1/3\n",
    "print( f'Вероятность, что выстрелил 1 спортсмен = {(athlete1*choice_a)/(athlete1*choice_a+athlete2*choice_a+athlete3*choice_a)*100:.2f}%' )\n",
    "print( f'Вероятность, что выстрелил 2 спортсмен = {(athlete2*choice_a)/(athlete1*choice_a+athlete2*choice_a+athlete3*choice_a)*100:.2f}%' )\n",
    "print( f'Вероятность, что выстрелил 3 спортсмен = {(athlete3*choice_a)/(athlete1*choice_a+athlete2*choice_a+athlete3*choice_a)*100:.2f}%' )"
   ]
  },
  {
   "cell_type": "markdown",
   "id": "50e006a9",
   "metadata": {},
   "source": [
    "Задача 4. В университет на факультеты A и B поступило равное количество студентов, а на факультет C студентов поступило столько же, сколько на A и B вместе. Вероятность того, что студент факультета A сдаст первую сессию, равна 0.8. Для студента факультета B эта вероятность равна 0.7, а для студента факультета C - 0.9. Студент сдал первую сессию. Какова вероятность, что он учится: a). на факультете A б). на факультете B в). на факультете C?"
   ]
  },
  {
   "cell_type": "code",
   "execution_count": 7,
   "id": "4f348c64",
   "metadata": {},
   "outputs": [
    {
     "name": "stdout",
     "output_type": "stream",
     "text": [
      " Вероятность, что студент учится на факульте A = 24.24%\n",
      " Вероятность, что студент учится на факульте B = 21.21%\n",
      " Вероятность, что студент учится на факульте С = 54.55%\n"
     ]
    }
   ],
   "source": [
    "count_a = 0.25\n",
    "count_b = 0.25\n",
    "count_c = 0.50\n",
    "p1 = 0.8\n",
    "p2 = 0.7\n",
    "p3 = 0.9\n",
    "print( f' Вероятность, что студент учится на факульте A = {(count_a * p1 / (p1 * count_a + p2 * count_b + p3 * count_c))*100:.2f}%' )\n",
    "print( f' Вероятность, что студент учится на факульте B = {(count_b * p2 / (p1 * count_a + p2 * count_b + p3 * count_c))*100:.2f}%' )\n",
    "print( f' Вероятность, что студент учится на факульте С = {(count_c * p3 / (p1 * count_a + p2 * count_b + p3 * count_c))*100:.2f}%' )"
   ]
  },
  {
   "cell_type": "markdown",
   "id": "cfabd670",
   "metadata": {},
   "source": [
    "Задача 5. Устройство состоит из трех деталей. Для первой детали вероятность выйти из строя в первый месяц равна 0.1, для второй - 0.2, для третьей - 0.25. Какова вероятность того, что в первый месяц выйдут из строя: а). все детали б). только две детали в). хотя бы одна деталь г). от одной до двух деталей?"
   ]
  },
  {
   "cell_type": "code",
   "execution_count": 9,
   "id": "fa75da42",
   "metadata": {},
   "outputs": [
    {
     "name": "stdout",
     "output_type": "stream",
     "text": [
      "Вероятность, что выйдут из строя все детали = 0.50%\n",
      "Вероятность, что выйдут из строя 2-е детали = 8.00%\n",
      "Вероятность, что выйдет из строя 1-а деталь = 37.50%\n",
      "Вероятность, что выйдет из строя хотя бы 1 деталь = 46.00%\n",
      "Вероятность, что выйдут из строя от 1 до 2 деталей = 45.50%\n"
     ]
    }
   ],
   "source": [
    "detail1 = 0.1\n",
    "detail2 = 0.2\n",
    "detail3 = 0.25\n",
    "a = detail1 * detail2 * detail3\n",
    "b = detail1 * detail2 * (1 - detail3) + detail1 * (1 - detail2) * detail3 + (1 - detail1) * detail2 * detail3\n",
    "c = detail1 * (1 - detail2) * (1 - detail3) + (1 - detail1) * detail2 * (1 - detail3) + (1 - detail1) * (1 - detail2) * detail3\n",
    "d = b + c\n",
    "\n",
    "e = 1 - ((1 - detail1) * (1 - detail2) * (1 - detail3))\n",
    "\n",
    "print( f'Вероятность, что выйдут из строя все детали = {a*100:.2f}%' )\n",
    "print( f'Вероятность, что выйдут из строя 2-е детали = {b*100:.2f}%' )\n",
    "print( f'Вероятность, что выйдет из строя 1-а деталь = {c*100:.2f}%' )\n",
    "print( f'Вероятность, что выйдет из строя хотя бы 1 деталь = {e*100:.2f}%' )\n",
    "print( f'Вероятность, что выйдут из строя от 1 до 2 деталей = {d*100:.2f}%' )"
   ]
  },
  {
   "cell_type": "code",
   "execution_count": null,
   "id": "74e1b7c7",
   "metadata": {},
   "outputs": [],
   "source": []
  }
 ],
 "metadata": {
  "kernelspec": {
   "display_name": "Python 3 (ipykernel)",
   "language": "python",
   "name": "python3"
  },
  "language_info": {
   "codemirror_mode": {
    "name": "ipython",
    "version": 3
   },
   "file_extension": ".py",
   "mimetype": "text/x-python",
   "name": "python",
   "nbconvert_exporter": "python",
   "pygments_lexer": "ipython3",
   "version": "3.9.13"
  }
 },
 "nbformat": 4,
 "nbformat_minor": 5
}
