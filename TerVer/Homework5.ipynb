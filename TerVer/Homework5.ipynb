{
 "cells": [
  {
   "cell_type": "code",
   "execution_count": 1,
   "id": "ced4127c",
   "metadata": {},
   "outputs": [],
   "source": [
    "from math import factorial, e\n",
    "from sympy.plotting import plot\n",
    "import numpy as np\n",
    "import pandas as pd\n",
    "from matplotlib import *\n",
    "from matplotlib import pyplot as plt\n",
    "from scipy import stats"
   ]
  },
  {
   "cell_type": "markdown",
   "id": "818db63e",
   "metadata": {},
   "source": [
    "Когда используется критерий Стьюдента, а когда Z –критерий?"
   ]
  },
  {
   "cell_type": "markdown",
   "id": "50cd114c",
   "metadata": {},
   "source": [
    "Критерий Стьюдента применяется в случае, когда размер выборки меньше 30 и неизвестно стандартное отклонение генеральной совокупности. Z-критерий же используется, когда размер выборки больше или равен 30 и известно стандартное отклонение генеральной совокупности либо имеется возможность его оценить по выборке. Также Z-критерий используется, когда распределение признака в выборке является нормальным."
   ]
  },
  {
   "cell_type": "markdown",
   "id": "ca4762fc",
   "metadata": {},
   "source": [
    "Задачи 2,3 решать вручную\n",
    "\n",
    "2. Проведите тест гипотезы. Утверждается, что шарики для подшипников, изготовленные автоматическим станком, имеют средний диаметр 17 мм.\n",
    "Используя односторонний критерий с α=0,05, проверить эту гипотезу, если в выборке из n=100 шариков средний диаметр\n",
    "\n",
    "оказался равным 17.5 мм, а дисперсия известна и равна 4 кв. мм."
   ]
  },
  {
   "cell_type": "markdown",
   "id": "1f9a137a",
   "metadata": {},
   "source": [
    "H0: мю = 17\n",
    "Н1: мю > 17\n",
    "alpha = 0.05\n",
    "так как известна дисперсия, мы можем вычислить стандартное отклонение = 2"
   ]
  },
  {
   "cell_type": "code",
   "execution_count": 2,
   "id": "d34ba7d0",
   "metadata": {},
   "outputs": [
    {
     "name": "stdout",
     "output_type": "stream",
     "text": [
      "z наблюдаемое: 2.5, z критическое: 1.64\n"
     ]
    }
   ],
   "source": [
    "z = (17.5 - 17)/(2/(100**0.5))\n",
    "t_1 = stats.norm.ppf(1- 0.05)\n",
    "print(f'z наблюдаемое: {z}, z критическое: {t_1:.2f}')"
   ]
  },
  {
   "cell_type": "markdown",
   "id": "a083acb2",
   "metadata": {},
   "source": [
    "Ответ: гипотеза о том, что шарики для подшипников, изготовленные автоматическим станком, имеют средний диаметр 17 мм неверна."
   ]
  },
  {
   "cell_type": "markdown",
   "id": "30f4a6cc",
   "metadata": {},
   "source": [
    "3.Проведите тест гипотезы. Продавец утверждает, что средний вес пачки печенья составляет 200 г.\n",
    "\n",
    "Из партии извлечена выборка из 10 пачек. Вес каждой пачки составляет:\n",
    "\n",
    "202, 203, 199, 197, 195, 201, 200, 204, 194, 190.\n",
    "\n",
    "Известно, что их веса распределены нормально.\n",
    "\n",
    "Верно ли утверждение продавца, если учитывать, что доверительная вероятность равна 99%? (Провести двусторонний тест.)"
   ]
  },
  {
   "cell_type": "code",
   "execution_count": 3,
   "id": "a8b81047",
   "metadata": {},
   "outputs": [
    {
     "name": "stdout",
     "output_type": "stream",
     "text": [
      "среднее x - 198.5,\n",
      "дисперсия x - 19.83,\n",
      "стандартное отклонение x - 4.45,\n",
      "размер x - 10.\n",
      "-1.0651074037450896\n",
      "При альфе 0.005 (1 - 0.99 / 2): 2.5758293035489004 и -2.575829303548901\n"
     ]
    }
   ],
   "source": [
    "x_pack = np.array([202, 203, 199, 197, 195, 201, 200, 204, 194, 190])\n",
    "xpack_mean = np.mean(x_pack)\n",
    "xpack_v = np.var(x_pack, ddof=1)\n",
    "xpack_sigm = xpack_v**0.5\n",
    "n_xpack = len(x_pack)\n",
    "print(f'среднее x - {xpack_mean},\\nдисперсия x - {xpack_v:.2f},\\nстандартное отклонение x - {xpack_sigm:.2f},\\nразмер x - {n_xpack}.')\n",
    "t_pack = (xpack_mean - 200) / (xpack_sigm / (10 ** 0.5))\n",
    "print(t_pack)\n",
    "t_1pack = stats.norm.ppf(1-0.005)\n",
    "t_2pack = stats.norm.ppf(0.005)\n",
    "print(f'При альфе 0.005 (1 - 0.99 / 2): {t_1pack} и {t_2pack}')"
   ]
  },
  {
   "cell_type": "markdown",
   "id": "dc4600e5",
   "metadata": {},
   "source": [
    "Ответ: гипотеза о том, что средний вес пачки печенья составляет 200 г верна."
   ]
  },
  {
   "cell_type": "markdown",
   "id": "36bd633a",
   "metadata": {},
   "source": [
    "Задачу 4 решать с помощью функции.\n",
    "\n",
    "4.Есть ли статистически значимые различия в росте дочерей?\n",
    "\n",
    "Рост матерей 172, 177, 158, 170, 178,175, 164, 160, 169, 165\n",
    "\n",
    "Рост взрослых дочерей: 173, 175, 162, 174, 175, 168, 155, 170, 160"
   ]
  },
  {
   "cell_type": "code",
   "execution_count": 4,
   "id": "595965da",
   "metadata": {},
   "outputs": [],
   "source": [
    "x=np.array([172, 177, 158, 170, 178,175, 164, 160, 169, 165])\n",
    "y=np.array([173, 175, 162, 174, 175, 168, 155, 170, 160])"
   ]
  },
  {
   "cell_type": "code",
   "execution_count": 5,
   "id": "f9586b29",
   "metadata": {},
   "outputs": [
    {
     "name": "stdout",
     "output_type": "stream",
     "text": [
      "среднее x - 168.8,\n",
      "среднее y - 168.0,\n",
      "дисперсия x - 48.18,\n",
      "дисперсия y - 54.0,\n",
      "размер x - 10,\n",
      "размер y - 9.\n"
     ]
    }
   ],
   "source": [
    "x_mean = np.mean(x)\n",
    "y_mean = np.mean(y)\n",
    "x_v = np.var(x, ddof=1)\n",
    "y_v = np.var(y, ddof=1)\n",
    "n_x = len(x)\n",
    "n_y = len(y)\n",
    "print(f'среднее x - {x_mean},\\nсреднее y - {y_mean},\\nдисперсия x - {x_v:.2f},\\nдисперсия y - {y_v},\\nразмер x - {n_x},\\nразмер y - {n_y}.')"
   ]
  },
  {
   "cell_type": "code",
   "execution_count": 6,
   "id": "5a8afff8",
   "metadata": {},
   "outputs": [
    {
     "data": {
      "text/plain": [
       "0.24323213903456076"
      ]
     },
     "execution_count": 6,
     "metadata": {},
     "output_type": "execute_result"
    }
   ],
   "source": [
    "t_emp = (x_mean - y_mean) / np.sqrt(x_v / n_x + y_v / n_y)\n",
    "t_emp"
   ]
  },
  {
   "cell_type": "code",
   "execution_count": 7,
   "id": "fe8f06ef",
   "metadata": {},
   "outputs": [
    {
     "name": "stdout",
     "output_type": "stream",
     "text": [
      "-2.10092204024096 -2.1199052992210112 2.10092204024096 2.1199052992210112\n"
     ]
    }
   ],
   "source": [
    "alpha = 0.025\n",
    "t1 = stats.t.ppf(alpha, df=2*(n_x-1))\n",
    "t2 = stats.t.ppf(alpha, df=2*(n_y-1))\n",
    "t3 = stats.t.ppf(1-alpha, df=2*(n_x-1))\n",
    "t4 = stats.t.ppf(1- alpha, df=2*(n_y-1))\n",
    "print(t1, t2, t3, t4)"
   ]
  },
  {
   "cell_type": "markdown",
   "id": "068225b7",
   "metadata": {},
   "source": [
    "Ответ: Cтатистически значимыx различий в росте дочерей нет."
   ]
  }
 ],
 "metadata": {
  "kernelspec": {
   "display_name": "Python 3 (ipykernel)",
   "language": "python",
   "name": "python3"
  },
  "language_info": {
   "codemirror_mode": {
    "name": "ipython",
    "version": 3
   },
   "file_extension": ".py",
   "mimetype": "text/x-python",
   "name": "python",
   "nbconvert_exporter": "python",
   "pygments_lexer": "ipython3",
   "version": "3.9.13"
  }
 },
 "nbformat": 4,
 "nbformat_minor": 5
}
