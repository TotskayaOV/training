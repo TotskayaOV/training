{
 "cells": [
  {
   "cell_type": "code",
   "execution_count": 1,
   "id": "0d182d31",
   "metadata": {},
   "outputs": [],
   "source": [
    "import numpy as np\n",
    "from scipy import stats"
   ]
  },
  {
   "cell_type": "markdown",
   "id": "b004975d",
   "metadata": {},
   "source": [
    "Известно, что генеральная совокупность распределена нормально со средним квадратическим отклонением, равным 16.\n",
    "Найти доверительный интервал для оценки математического ожидания a с надежностью 0.95, если выборочная средняя M = 80, а объем выборки n = 256."
   ]
  },
  {
   "cell_type": "markdown",
   "id": "b4cd592e",
   "metadata": {},
   "source": [
    "alpha = 0.05 M = 80 n = 256 z = 1.96 sigma = 16"
   ]
  },
  {
   "cell_type": "code",
   "execution_count": 2,
   "id": "d58ff928",
   "metadata": {},
   "outputs": [
    {
     "name": "stdout",
     "output_type": "stream",
     "text": [
      "доверительный интервал (78.04 < M < 81.96)\n"
     ]
    }
   ],
   "source": [
    "alpha = 0.05 \n",
    "M = 80 \n",
    "n = 256 \n",
    "z = 1.96 \n",
    "sigma = 16\n",
    "\n",
    "t_11 = M + z * (sigma/ n**0.5)\n",
    "t_12 = M - z * (sigma/ n**0.5)\n",
    "print (f'доверительный интервал ({t_12} < M < {t_11})')"
   ]
  },
  {
   "cell_type": "markdown",
   "id": "24883009",
   "metadata": {},
   "source": [
    "В результате 10 независимых измерений некоторой величины X, выполненных с одинаковой точностью, получены опытные данные:\n",
    "6.9, 6.1, 6.2, 6.8, 7.5, 6.3, 6.4, 6.9, 6.7, 6.1\n",
    "\n",
    "Предполагая, что результаты измерений подчинены нормальному закону распределения вероятностей, оценить истинное значение величины X при помощи доверительного интервала, покрывающего это значение с доверительной вероятностью 0,95."
   ]
  },
  {
   "cell_type": "code",
   "execution_count": 8,
   "id": "0de46951",
   "metadata": {},
   "outputs": [
    {
     "name": "stdout",
     "output_type": "stream",
     "text": [
      "Величина Х лежит в интервале:(6.250071860391163 : 6.929928139608839)\n",
      "2.2621571627409915\n",
      "6.590000000000001\n"
     ]
    }
   ],
   "source": [
    "a = np.array([6.9, 6.1, 6.2, 6.8, 7.5, 6.3, 6.4, 6.9, 6.7, 6.1])\n",
    "x_1 = np.mean(a)\n",
    "D1 = np.var(a, ddof=1)\n",
    "t1 = stats.t.ppf(0.975, 9)\n",
    "y1 = x_1 - t1*np.sqrt(D1/9)\n",
    "y2 = x_1 + t1*np.sqrt(D1/9)\n",
    "print(f'Величина Х лежит в интервале:({y1} : {y2})')\n",
    "print(t1)\n",
    "print(x_1)"
   ]
  },
  {
   "cell_type": "markdown",
   "id": "51f8c985",
   "metadata": {},
   "source": [
    "3.Рост дочерей 175, 167, 154, 174, 178, 148, 160, 167, 169, 170\n",
    "\n",
    "Рост матерей  178, 165, 165, 173, 168, 155, 160, 164, 178, 175\n",
    "\n",
    "Используя эти данные построить 95% доверительный интервал для разности среднего роста родителей и детей."
   ]
  },
  {
   "cell_type": "code",
   "execution_count": 11,
   "id": "eabcae8a",
   "metadata": {},
   "outputs": [],
   "source": [
    "x = np.array([175, 167, 154, 174, 178, 148, 160, 167, 169, 170])\n",
    "y = np.array([178, 165, 165, 173, 168, 155, 160, 164, 178, 175])"
   ]
  },
  {
   "cell_type": "code",
   "execution_count": 20,
   "id": "a654936e",
   "metadata": {
    "scrolled": true
   },
   "outputs": [
    {
     "name": "stdout",
     "output_type": "stream",
     "text": [
      "среднее x - 166.2\n",
      "среднее y - 168.1\n",
      "ср. кв. отклонение x - 9.54\n",
      "ср. кв. отклонение y - 7.75\n",
      "несмещенная дисп. x - 91.07\n",
      "несмещенная дисп. y - 60.10\n",
      "\n",
      "дисперсия 2 выборок - 75.58\n",
      "df - 18\n",
      "S - 3.8880157750022915\n",
      "\n",
      "t критическое - 2.10\n",
      "интервал  (-10.068418034506857 : 6.268418034506846)\n"
     ]
    }
   ],
   "source": [
    "x_mean = np.mean(x)\n",
    "y_mean = np.mean(y)\n",
    "x_v = np.var(x, ddof=1)\n",
    "y_v = np.var(y, ddof=1)\n",
    "x_std = np.std(x,ddof=1)\n",
    "y_std = np.std(y,ddof=1)\n",
    "xy_v = 1/2 * (x_v + y_v)\n",
    "S_d = (xy_v/10 + xy_v/10)**0.5\n",
    "df = 2 *(10-1)\n",
    "t_cr = stats.t.ppf(0.975,df)\n",
    "d_mean = x_mean - y_mean\n",
    "left_p = d_mean - t_cr * S_d\n",
    "right_p = d_mean + t_cr * S_d\n",
    "print(f'среднее x - {x_mean}\\nсреднее y - {y_mean}\\nср. кв. отклонение x - {x_std:.2f}\\nср. кв. отклонение y - {y_std:.2f}\\nнесмещенная дисп. x - {x_v:.2f}\\nнесмещенная дисп. y - {y_v:.2f}')\n",
    "print(f'\\nдисперсия 2 выборок - {xy_v:.2f}\\ndf - {df}\\nS - {S_d}')\n",
    "print(f'\\nt критическое - {t_cr:.2f}\\nинтервал  ({left_p} : {right_p})')"
   ]
  },
  {
   "cell_type": "code",
   "execution_count": null,
   "id": "abbfc2e1",
   "metadata": {},
   "outputs": [],
   "source": []
  }
 ],
 "metadata": {
  "kernelspec": {
   "display_name": "Python 3 (ipykernel)",
   "language": "python",
   "name": "python3"
  },
  "language_info": {
   "codemirror_mode": {
    "name": "ipython",
    "version": 3
   },
   "file_extension": ".py",
   "mimetype": "text/x-python",
   "name": "python",
   "nbconvert_exporter": "python",
   "pygments_lexer": "ipython3",
   "version": "3.9.13"
  }
 },
 "nbformat": 4,
 "nbformat_minor": 5
}
